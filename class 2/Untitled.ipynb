{
 "cells": [
  {
   "cell_type": "code",
   "execution_count": 3,
   "id": "8308286a",
   "metadata": {},
   "outputs": [
    {
     "name": "stdout",
     "output_type": "stream",
     "text": [
      "   Country   Age   Salary  Purchased\n",
      "0   France  44.0  72000.0          0\n",
      "1    Spain  27.0  48000.0          1\n",
      "2  Germany  30.0  54000.0          0\n",
      "3    Spain  38.0  61000.0          0\n",
      "4  Germany  40.0      NaN          1\n",
      "5   France  35.0  58000.0          1\n",
      "6    Spain   NaN  52000.0          0\n",
      "7   France  48.0  79000.0          1\n",
      "8  Germany  50.0  83000.0          0\n",
      "9   France  37.0  67000.0          1\n"
     ]
    }
   ],
   "source": [
    "import pandas as pd\n",
    "data={\n",
    "    'Country':['France','Spain','Germany','Spain','Germany','France','Spain','France','Germany','France'],\n",
    "    'Age':[44,27,30,38,40,35,None,48,50,37],\n",
    "    'Salary':[72000,48000,54000,61000,None,58000,52000,79000,83000,67000],\n",
    "    'Purchased':[0,1,0,0,1,1,0,1,0,1]\n",
    "}\n",
    "df=pd.DataFrame(data)\n",
    "print(df)"
   ]
  },
  {
   "cell_type": "code",
   "execution_count": 4,
   "id": "48309036",
   "metadata": {},
   "outputs": [
    {
     "name": "stdout",
     "output_type": "stream",
     "text": [
      "<class 'pandas.core.frame.DataFrame'>\n",
      "RangeIndex: 10 entries, 0 to 9\n",
      "Data columns (total 4 columns):\n",
      " #   Column     Non-Null Count  Dtype  \n",
      "---  ------     --------------  -----  \n",
      " 0   Country    10 non-null     object \n",
      " 1   Age        9 non-null      float64\n",
      " 2   Salary     9 non-null      float64\n",
      " 3   Purchased  10 non-null     int64  \n",
      "dtypes: float64(2), int64(1), object(1)\n",
      "memory usage: 448.0+ bytes\n"
     ]
    }
   ],
   "source": [
    "df.info()"
   ]
  },
  {
   "cell_type": "code",
   "execution_count": 6,
   "id": "3725fc45",
   "metadata": {},
   "outputs": [
    {
     "name": "stdout",
     "output_type": "stream",
     "text": [
      "Independent Variables:\n",
      "   Country   Age  Purchased\n",
      "0   France  44.0          0\n",
      "1    Spain  27.0          1\n",
      "2  Germany  30.0          0\n",
      "3    Spain  38.0          0\n",
      "4  Germany  40.0          1\n"
     ]
    }
   ],
   "source": [
    "independent_variables = df[['Country','Age','Purchased']]\n",
    "print(\"Independent Variables:\")\n",
    "print(independent_variables.head())"
   ]
  },
  {
   "cell_type": "code",
   "execution_count": 7,
   "id": "c19007e0",
   "metadata": {},
   "outputs": [
    {
     "name": "stdout",
     "output_type": "stream",
     "text": [
      "Dependent Variable:\n",
      "0    72000.0\n",
      "1    48000.0\n",
      "2    54000.0\n",
      "3    61000.0\n",
      "4        NaN\n",
      "Name: Salary, dtype: float64\n"
     ]
    }
   ],
   "source": [
    "dependent_variable = df['Salary']\n",
    "print(\"Dependent Variable:\")\n",
    "print(dependent_variable.head())"
   ]
  },
  {
   "cell_type": "code",
   "execution_count": 12,
   "id": "44b8647f",
   "metadata": {},
   "outputs": [
    {
     "name": "stdout",
     "output_type": "stream",
     "text": [
      "   Country        Age        Salary  Purchased\n",
      "0   France  44.000000  72000.000000        1.0\n",
      "1    Spain  27.000000  48000.000000        1.0\n",
      "2  Germany  30.000000  54000.000000        1.0\n",
      "3    Spain  38.000000  61000.000000        1.0\n",
      "4  Germany  40.000000  63777.777778        1.0\n",
      "5   France  35.000000  58000.000000        1.0\n",
      "6    Spain  38.777778  52000.000000        1.0\n",
      "7   France  48.000000  79000.000000        1.0\n",
      "8  Germany  50.000000  83000.000000        1.0\n",
      "9   France  37.000000  67000.000000        1.0\n"
     ]
    },
    {
     "name": "stderr",
     "output_type": "stream",
     "text": [
      "C:\\Users\\22i270\\AppData\\Local\\Temp\\ipykernel_17624\\694942305.py:3: FutureWarning: The default value of numeric_only in DataFrame.mean is deprecated. In a future version, it will default to False. In addition, specifying 'numeric_only=None' is deprecated. Select only valid columns or specify the value of numeric_only to silence this warning.\n",
      "  mean_values=df.mean()\n"
     ]
    }
   ],
   "source": [
    "import numpy as np\n",
    "df.replace(0,np.nan,inplace=True)\n",
    "mean_values=df.mean()\n",
    "df.fillna(mean_values,inplace=True)\n",
    "print(df)"
   ]
  },
  {
   "cell_type": "code",
   "execution_count": 17,
   "id": "e3486352",
   "metadata": {},
   "outputs": [
    {
     "name": "stdout",
     "output_type": "stream",
     "text": [
      "    Age   Salary  Purchased  Country_France  Country_Germany  Country_Spain\n",
      "0  44.0  72000.0          0               1                0              0\n",
      "1  27.0  48000.0          1               0                0              1\n",
      "2  30.0  54000.0          0               0                1              0\n",
      "3  38.0  61000.0          0               0                0              1\n",
      "4  40.0      NaN          1               0                1              0\n",
      "5  35.0  58000.0          1               1                0              0\n",
      "6   NaN  52000.0          0               0                0              1\n",
      "7  48.0  79000.0          1               1                0              0\n",
      "8  50.0  83000.0          0               0                1              0\n",
      "9  37.0  67000.0          1               1                0              0\n"
     ]
    }
   ],
   "source": [
    "data={\n",
    "    'Country':['France','Spain','Germany','Spain','Germany','France','Spain','France','Germany','France'],\n",
    "    'Age':[44,27,30,38,40,35,None,48,50,37],\n",
    "    'Salary':[72000,48000,54000,61000,None,58000,52000,79000,83000,67000],\n",
    "    'Purchased':[0,1,0,0,1,1,0,1,0,1]\n",
    "}\n",
    "df=pd.DataFrame(data)\n",
    "one_hot=pd.get_dummies(df)\n",
    "print(one_hot)\n"
   ]
  },
  {
   "cell_type": "code",
   "execution_count": 31,
   "id": "65140e94",
   "metadata": {},
   "outputs": [
    {
     "name": "stdout",
     "output_type": "stream",
     "text": [
      "   Country   Age   Salary  Purchased  Salary_encoded\n",
      "0   France  44.0  72000.0          0               6\n",
      "1    Spain  27.0  48000.0          1               0\n",
      "2  Germany  30.0  54000.0          0               2\n",
      "3    Spain  38.0  61000.0          0               4\n",
      "4  Germany  40.0      NaN          1               9\n",
      "5   France  35.0  58000.0          1               3\n",
      "6    Spain   NaN  52000.0          0               1\n",
      "7   France  48.0  79000.0          1               7\n",
      "8  Germany  50.0  83000.0          0               8\n",
      "9   France  37.0  67000.0          1               5\n"
     ]
    }
   ],
   "source": [
    "data={\n",
    "    'Country':['France','Spain','Germany','Spain','Germany','France','Spain','France','Germany','France'],\n",
    "    'Age':[44,27,30,38,40,35,None,48,50,37],\n",
    "    'Salary':[72000,48000,54000,61000,None,58000,52000,79000,83000,67000],\n",
    "    'Purchased':[0,1,0,0,1,1,0,1,0,1]\n",
    "}\n",
    "from sklearn.preprocessing import LabelEncoder\n",
    "df = pd.DataFrame(data)\n",
    "encoder = LabelEncoder()\n",
    "df['Salary_encoded'] = encoder.fit_transform(df['Salary'])\n",
    "print(df)"
   ]
  },
  {
   "cell_type": "code",
   "execution_count": 27,
   "id": "74b177e3",
   "metadata": {
    "scrolled": true
   },
   "outputs": [
    {
     "name": "stdout",
     "output_type": "stream",
     "text": [
      "x_train shape: (7, 3)\n",
      "x_test shape: (3, 3)\n",
      "y_train shape: (7,)\n",
      "y_test shape: (3,)\n",
      "\n",
      "Training Features:\n",
      "   Country   Age  Purchased\n",
      "0   France  44.0          0\n",
      "7   France  48.0          1\n",
      "2  Germany  30.0          0\n",
      "9   France  37.0          1\n",
      "4  Germany  40.0          1\n",
      "3    Spain  38.0          0\n",
      "6    Spain   NaN          0\n",
      "\n",
      "Testing Features:\n",
      "   Country   Age  Purchased\n",
      "8  Germany  50.0          0\n",
      "1    Spain  27.0          1\n",
      "5   France  35.0          1\n",
      "\n",
      "Training Target:\n",
      "0    72000.0\n",
      "7    79000.0\n",
      "2    54000.0\n",
      "9    67000.0\n",
      "4        NaN\n",
      "3    61000.0\n",
      "6    52000.0\n",
      "Name: Salary, dtype: float64\n",
      "\n",
      "Testing Target:\n",
      "8    83000.0\n",
      "1    48000.0\n",
      "5    58000.0\n",
      "Name: Salary, dtype: float64\n"
     ]
    }
   ],
   "source": [
    "from sklearn.model_selection import train_test_split\n",
    "data={\n",
    "    'Country':['France','Spain','Germany','Spain','Germany','France','Spain','France','Germany','France'],\n",
    "    'Age':[44,27,30,38,40,35,None,48,50,37],\n",
    "    'Salary':[72000,48000,54000,61000,None,58000,52000,79000,83000,67000],\n",
    "    'Purchased':[0,1,0,0,1,1,0,1,0,1]\n",
    "}\n",
    "df = pd.DataFrame(data)\n",
    "x = df[['Country','Age','Purchased']]\n",
    "y = df['Salary']\n",
    "x_train, x_test, y_train, y_test = train_test_split(x, y, test_size=0.3, random_state=42)\n",
    "print(\"x_train shape:\", x_train.shape)\n",
    "print(\"x_test shape:\", x_test.shape)\n",
    "print(\"y_train shape:\", y_train.shape)\n",
    "print(\"y_test shape:\", y_test.shape)\n",
    "print(\"\\nTraining Features:\")\n",
    "print(x_train)\n",
    "print(\"\\nTesting Features:\")\n",
    "print(x_test)\n",
    "print(\"\\nTraining Target:\")\n",
    "print(y_train)\n",
    "print(\"\\nTesting Target:\")\n",
    "print(y_test)"
   ]
  },
  {
   "cell_type": "code",
   "execution_count": 35,
   "id": "d5287d4c",
   "metadata": {},
   "outputs": [
    {
     "name": "stdout",
     "output_type": "stream",
     "text": [
      "DataFrame after min-max normalization:\n",
      "   Country   Age   Salary  Purchased  Salary_encoded  Age_normalized  \\\n",
      "0   France  44.0  72000.0          0               6        0.685714   \n",
      "1    Spain  27.0  48000.0          1               0        0.000000   \n",
      "2  Germany  30.0  54000.0          0               2        0.171429   \n",
      "3    Spain  38.0  61000.0          0               4        0.371429   \n",
      "4  Germany  40.0      NaN          1               9             NaN   \n",
      "5   France  35.0  58000.0          1               3        0.285714   \n",
      "6    Spain   NaN  52000.0          0               1        0.114286   \n",
      "7   France  48.0  79000.0          1               7        0.885714   \n",
      "8  Germany  50.0  83000.0          0               8        1.000000   \n",
      "9   France  37.0  67000.0          1               5        0.542857   \n",
      "\n",
      "   Salary_normalized  \n",
      "0           0.685714  \n",
      "1           0.000000  \n",
      "2           0.171429  \n",
      "3           0.371429  \n",
      "4                NaN  \n",
      "5           0.285714  \n",
      "6           0.114286  \n",
      "7           0.885714  \n",
      "8           1.000000  \n",
      "9           0.542857  \n"
     ]
    }
   ],
   "source": [
    "\n"
   ]
  },
  {
   "cell_type": "code",
   "execution_count": 40,
   "id": "9a5a10e2",
   "metadata": {},
   "outputs": [
    {
     "data": {
      "text/html": [
       "<div>\n",
       "<style scoped>\n",
       "    .dataframe tbody tr th:only-of-type {\n",
       "        vertical-align: middle;\n",
       "    }\n",
       "\n",
       "    .dataframe tbody tr th {\n",
       "        vertical-align: top;\n",
       "    }\n",
       "\n",
       "    .dataframe thead th {\n",
       "        text-align: right;\n",
       "    }\n",
       "</style>\n",
       "<table border=\"1\" class=\"dataframe\">\n",
       "  <thead>\n",
       "    <tr style=\"text-align: right;\">\n",
       "      <th></th>\n",
       "      <th>Country</th>\n",
       "      <th>Age</th>\n",
       "      <th>Salary</th>\n",
       "      <th>Purchased</th>\n",
       "    </tr>\n",
       "  </thead>\n",
       "  <tbody>\n",
       "    <tr>\n",
       "      <th>0</th>\n",
       "      <td>France</td>\n",
       "      <td>44.0</td>\n",
       "      <td>0.670349</td>\n",
       "      <td>-0.948683</td>\n",
       "    </tr>\n",
       "    <tr>\n",
       "      <th>1</th>\n",
       "      <td>Spain</td>\n",
       "      <td>27.0</td>\n",
       "      <td>-1.286346</td>\n",
       "      <td>0.948683</td>\n",
       "    </tr>\n",
       "    <tr>\n",
       "      <th>2</th>\n",
       "      <td>Germany</td>\n",
       "      <td>30.0</td>\n",
       "      <td>-0.797172</td>\n",
       "      <td>-0.948683</td>\n",
       "    </tr>\n",
       "    <tr>\n",
       "      <th>3</th>\n",
       "      <td>Spain</td>\n",
       "      <td>38.0</td>\n",
       "      <td>-0.226469</td>\n",
       "      <td>-0.948683</td>\n",
       "    </tr>\n",
       "    <tr>\n",
       "      <th>4</th>\n",
       "      <td>Germany</td>\n",
       "      <td>40.0</td>\n",
       "      <td>NaN</td>\n",
       "      <td>0.948683</td>\n",
       "    </tr>\n",
       "    <tr>\n",
       "      <th>5</th>\n",
       "      <td>France</td>\n",
       "      <td>35.0</td>\n",
       "      <td>-0.471056</td>\n",
       "      <td>0.948683</td>\n",
       "    </tr>\n",
       "    <tr>\n",
       "      <th>6</th>\n",
       "      <td>Spain</td>\n",
       "      <td>NaN</td>\n",
       "      <td>-0.960230</td>\n",
       "      <td>-0.948683</td>\n",
       "    </tr>\n",
       "    <tr>\n",
       "      <th>7</th>\n",
       "      <td>France</td>\n",
       "      <td>48.0</td>\n",
       "      <td>1.241052</td>\n",
       "      <td>0.948683</td>\n",
       "    </tr>\n",
       "    <tr>\n",
       "      <th>8</th>\n",
       "      <td>Germany</td>\n",
       "      <td>50.0</td>\n",
       "      <td>1.567168</td>\n",
       "      <td>-0.948683</td>\n",
       "    </tr>\n",
       "    <tr>\n",
       "      <th>9</th>\n",
       "      <td>France</td>\n",
       "      <td>37.0</td>\n",
       "      <td>0.262704</td>\n",
       "      <td>0.948683</td>\n",
       "    </tr>\n",
       "  </tbody>\n",
       "</table>\n",
       "</div>"
      ],
      "text/plain": [
       "   Country   Age    Salary  Purchased\n",
       "0   France  44.0  0.670349  -0.948683\n",
       "1    Spain  27.0 -1.286346   0.948683\n",
       "2  Germany  30.0 -0.797172  -0.948683\n",
       "3    Spain  38.0 -0.226469  -0.948683\n",
       "4  Germany  40.0       NaN   0.948683\n",
       "5   France  35.0 -0.471056   0.948683\n",
       "6    Spain   NaN -0.960230  -0.948683\n",
       "7   France  48.0  1.241052   0.948683\n",
       "8  Germany  50.0  1.567168  -0.948683\n",
       "9   France  37.0  0.262704   0.948683"
      ]
     },
     "metadata": {},
     "output_type": "display_data"
    }
   ],
   "source": [
    "data={\n",
    "    'Country':['France','Spain','Germany','Spain','Germany','France','Spain','France','Germany','France'],\n",
    "    'Age':[44,27,30,38,40,35,None,48,50,37],\n",
    "    'Salary':[72000,48000,54000,61000,None,58000,52000,79000,83000,67000],\n",
    "    'Purchased':[0,1,0,0,1,1,0,1,0,1]\n",
    "}\n",
    "df = pd.DataFrame(data)\n",
    "z_scale=df.copy()\n",
    "for column in z_scale.columns[2:]:\n",
    "    z_scale[column]=(z_scale[column]-z_scale[column].mean())/z_scale[column].std()\n",
    "display(z_scale)"
   ]
  },
  {
   "cell_type": "code",
   "execution_count": 38,
   "id": "6f011f39",
   "metadata": {},
   "outputs": [
    {
     "name": "stdout",
     "output_type": "stream",
     "text": [
      "DataFrame after min-max normalization:\n",
      "   Country   Age   Salary  Purchased  Salary_normalized\n",
      "0   France  44.0  72000.0          0           0.685714\n",
      "1    Spain  27.0  48000.0          1           0.000000\n",
      "2  Germany  30.0  54000.0          0           0.171429\n",
      "3    Spain  38.0  61000.0          0           0.371429\n",
      "4  Germany  40.0      NaN          1                NaN\n",
      "5   France  35.0  58000.0          1           0.285714\n",
      "6    Spain   NaN  52000.0          0           0.114286\n",
      "7   France  48.0  79000.0          1           0.885714\n",
      "8  Germany  50.0  83000.0          0           1.000000\n",
      "9   France  37.0  67000.0          1           0.542857\n"
     ]
    }
   ],
   "source": [
    "data={\n",
    "    'Country':['France','Spain','Germany','Spain','Germany','France','Spain','France','Germany','France'],\n",
    "    'Age':[44,27,30,38,40,35,None,48,50,37],\n",
    "    'Salary':[72000,48000,54000,61000,None,58000,52000,79000,83000,67000],\n",
    "    'Purchased':[0,1,0,0,1,1,0,1,0,1]\n",
    "}\n",
    "df = pd.DataFrame(data)\n",
    "column_to_normalize = 'Salary'\n",
    "column_min = df[column_to_normalize].min()\n",
    "column_max = df[column_to_normalize].max()\n",
    "df['Salary_normalized'] = (df[column_to_normalize] - column_min) / (column_max - column_min)\n",
    "print(\"DataFrame after min-max normalization:\")\n",
    "print(df)"
   ]
  },
  {
   "cell_type": "code",
   "execution_count": null,
   "id": "0a36805f",
   "metadata": {},
   "outputs": [],
   "source": []
  }
 ],
 "metadata": {
  "kernelspec": {
   "display_name": "Python 3 (ipykernel)",
   "language": "python",
   "name": "python3"
  },
  "language_info": {
   "codemirror_mode": {
    "name": "ipython",
    "version": 3
   },
   "file_extension": ".py",
   "mimetype": "text/x-python",
   "name": "python",
   "nbconvert_exporter": "python",
   "pygments_lexer": "ipython3",
   "version": "3.10.9"
  }
 },
 "nbformat": 4,
 "nbformat_minor": 5
}
