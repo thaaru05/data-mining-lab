{
 "cells": [
  {
   "cell_type": "code",
   "execution_count": 3,
   "id": "9d262e9d",
   "metadata": {},
   "outputs": [
    {
     "name": "stdout",
     "output_type": "stream",
     "text": [
      "Independent Variables:\n",
      "              date  bedrooms  floors  view  condition  grade\n",
      "0  20141013T000000         2     1.0     0          3      7\n",
      "1  20141209T000000         3     2.0     0          3      7\n",
      "2  20150225T000000         2     1.0     0          3      6\n",
      "3  20141209T000000         4     1.0     0          5      7\n",
      "4  20150218T000000         3     1.0     0          3      8\n",
      "\n",
      "Dependent Variable:\n",
      "0    1340\n",
      "1    1690\n",
      "2    2720\n",
      "3    1360\n",
      "4    1800\n",
      "Name: sqft_living15, dtype: int64\n"
     ]
    }
   ],
   "source": [
    "import pandas as pd\n",
    "\n",
    "#1. Extract independent variables from the dataset\n",
    "#2. Extract dependent variable from the dataset\n",
    "\n",
    "# Load the dataset (replace 'dataset.csv' with your dataset path)\n",
    "df = pd.read_csv('Housing.csv')\n",
    "\n",
    "# Assuming the column names are known or can be inspected from the dataset\n",
    "# Independent variables (features)\n",
    "independent_variables = df[['date', 'bedrooms','floors','view','condition','grade']]\n",
    "\n",
    "# Dependent variable (target)\n",
    "dependent_variable = df['sqft_living15']\n",
    "\n",
    "# Example of accessing these variables\n",
    "print(\"Independent Variables:\")\n",
    "print(independent_variables.head())\n",
    "\n",
    "print(\"\\nDependent Variable:\")\n",
    "print(dependent_variable.head())\n"
   ]
  },
  {
   "cell_type": "code",
   "execution_count": 6,
   "id": "3c54330e",
   "metadata": {},
   "outputs": [
    {
     "name": "stdout",
     "output_type": "stream",
     "text": [
      "   color  color_encoded\n",
      "0    red              2\n",
      "1  green              1\n",
      "2   blue              0\n",
      "3    red              2\n"
     ]
    }
   ],
   "source": [
    "#3. Perform Label encoding of the categorical data in the dataset\n",
    "import pandas as pd\n",
    "from sklearn.preprocessing import LabelEncoder\n",
    "data = {'color': ['red', 'green', 'blue', 'red']}\n",
    "df = pd.DataFrame(data)\n",
    "encoder = LabelEncoder()\n",
    "df['color_encoded'] = encoder.fit_transform(df['color'])\n",
    "print(df)\n"
   ]
  },
  {
   "cell_type": "code",
   "execution_count": 16,
   "id": "d4887daf",
   "metadata": {},
   "outputs": [
    {
     "name": "stdout",
     "output_type": "stream",
     "text": [
      "   Index  Animal_Cat  Animal_Dog  Animal_Horse  Animal_Lion  Animal_Sheep\n",
      "0      0           0           1             0            0             0\n",
      "1      1           1           0             0            0             0\n",
      "2      2           0           0             0            0             1\n",
      "3      3           0           0             1            0             0\n",
      "4      4           0           0             0            1             0\n"
     ]
    }
   ],
   "source": [
    "#4. Perform One-hot encoding of the categorical data in the dataset and convert to\n",
    "#numerical data\n",
    "data = {'Index': [0,1,2,3,4],'Animal':['Dog','Cat','Sheep','Horse','Lion']}\n",
    "df = pd.DataFrame(data)\n",
    "one_hot=pd.get_dummies(df)\n",
    "print(one_hot)\n"
   ]
  },
  {
   "cell_type": "code",
   "execution_count": 18,
   "id": "9a862d37",
   "metadata": {},
   "outputs": [
    {
     "name": "stdout",
     "output_type": "stream",
     "text": [
      "x_train shape: (3, 2)\n",
      "x_test shape: (2, 2)\n",
      "y_train shape: (3,)\n",
      "y_test shape: (2,)\n",
      "\n",
      "Training Features:\n",
      "   Index Animal\n",
      "2      2  Sheep\n",
      "0      0    Dog\n",
      "3      3  Horse\n",
      "\n",
      "Testing Features:\n",
      "   Index Animal\n",
      "1      1    Cat\n",
      "4      4   Lion\n",
      "\n",
      "Training Target:\n",
      "2    White\n",
      "0    Black\n",
      "3    Brown\n",
      "Name: Color, dtype: object\n",
      "\n",
      "Testing Target:\n",
      "1     White\n",
      "4    Orange\n",
      "Name: Color, dtype: object\n"
     ]
    }
   ],
   "source": [
    "#5. Split the arrays of the dataset into random train and test subsets. The code should\n",
    "#output:\n",
    "#x_train – features for the training data\n",
    "#x_test – features for the test data\n",
    "#y_train – dependent variables for training data\n",
    "#y_test – independent variable for testing data\n",
    "\n",
    "data = {'Index': [0, 1, 2, 3, 4],\n",
    "        'Animal': ['Dog', 'Cat', 'Sheep', 'Horse', 'Lion'],\n",
    "        'Color': ['Black', 'White', 'White', 'Brown', 'Orange']}\n",
    "df = pd.DataFrame(data)\n",
    "x = df[['Index', 'Animal']]\n",
    "y = df['Color']\n",
    "x_train, x_test, y_train, y_test = train_test_split(x, y, test_size=0.3, random_state=42)\n",
    "print(\"x_train shape:\", x_train.shape)\n",
    "print(\"x_test shape:\", x_test.shape)\n",
    "print(\"y_train shape:\", y_train.shape)\n",
    "print(\"y_test shape:\", y_test.shape)\n",
    "print(\"\\nTraining Features:\")\n",
    "print(x_train)\n",
    "print(\"\\nTesting Features:\")\n",
    "print(x_test)\n",
    "print(\"\\nTraining Target:\")\n",
    "print(y_train)\n",
    "print(\"\\nTesting Target:\")\n",
    "print(y_test)\n"
   ]
  },
  {
   "cell_type": "code",
   "execution_count": 33,
   "id": "ea0d078b",
   "metadata": {},
   "outputs": [
    {
     "name": "stdout",
     "output_type": "stream",
     "text": [
      "DataFrame after min-max normalization:\n",
      "   Index  Age  Salary  Age_normalized\n",
      "0      0   25   19000        0.074074\n",
      "1      1   20   10000        0.012346\n",
      "2      2   19  154100        0.000000\n",
      "3      3   90  154160        0.876543\n",
      "4      4  100  156000        1.000000\n",
      "\n",
      "\n",
      "\n",
      "\n"
     ]
    }
   ],
   "source": [
    "#6. Perform Min Max normalization over a data.\n",
    "data = {'Index': [0, 1, 2, 3, 4],\n",
    "        'Age':[25,20,19,90,100],\n",
    "        'Salary':[19000,10000,154100,154160,156000]}\n",
    "df = pd.DataFrame(data)\n",
    "column_to_normalize = 'Age'\n",
    "column_min = df[column_to_normalize].min()\n",
    "column_max = df[column_to_normalize].max()\n",
    "df['Age_normalized'] = (df[column_to_normalize] - column_min) / (column_max - column_min)\n",
    "print(\"DataFrame after min-max normalization:\")\n",
    "print(df)\n"
   ]
  },
  {
   "cell_type": "code",
   "execution_count": 32,
   "id": "dd99db1d",
   "metadata": {},
   "outputs": [
    {
     "name": "stdout",
     "output_type": "stream",
     "text": [
      "DataFrame after min-max normalization:\n",
      "   Index  Age  Salary  Age_normalized  Salary_normalized\n",
      "0      0   25   19000        0.074074           0.061644\n",
      "1      1   20   10000        0.012346           0.000000\n",
      "2      2   19  154100        0.000000           0.986986\n",
      "3      3   90  154160        0.876543           0.987397\n",
      "4      4  100  156000        1.000000           1.000000\n"
     ]
    }
   ],
   "source": [
    "column_to_normalize = 'Salary'\n",
    "column_min = df[column_to_normalize].min()\n",
    "column_max = df[column_to_normalize].max()\n",
    "df['Salary_normalized'] = (df[column_to_normalize] - column_min) / (column_max - column_min)\n",
    "print(\"DataFrame after min-max normalization:\")\n",
    "print(df)"
   ]
  },
  {
   "cell_type": "code",
   "execution_count": 34,
   "id": "5772e48e",
   "metadata": {},
   "outputs": [
    {
     "name": "stdout",
     "output_type": "stream",
     "text": [
      "DataFrame after min-max normalization (using MinMaxScaler):\n",
      "   Index  Age  Salary  Age_normalized\n",
      "0      0   25   19000        0.074074\n",
      "1      1   20   10000        0.012346\n",
      "2      2   19  154100        0.000000\n",
      "3      3   90  154160        0.876543\n",
      "4      4  100  156000        1.000000\n"
     ]
    }
   ],
   "source": [
    "from sklearn.preprocessing import MinMaxScaler\n",
    "column_to_normalize = 'Age'\n",
    "scaler = MinMaxScaler()\n",
    "df['Age_normalized'] = scaler.fit_transform(df[[column_to_normalize]])\n",
    "print(\"DataFrame after min-max normalization (using MinMaxScaler):\")\n",
    "print(df)"
   ]
  },
  {
   "cell_type": "code",
   "execution_count": 35,
   "id": "4fbe5111",
   "metadata": {},
   "outputs": [
    {
     "data": {
      "text/html": [
       "<div>\n",
       "<style scoped>\n",
       "    .dataframe tbody tr th:only-of-type {\n",
       "        vertical-align: middle;\n",
       "    }\n",
       "\n",
       "    .dataframe tbody tr th {\n",
       "        vertical-align: top;\n",
       "    }\n",
       "\n",
       "    .dataframe thead th {\n",
       "        text-align: right;\n",
       "    }\n",
       "</style>\n",
       "<table border=\"1\" class=\"dataframe\">\n",
       "  <thead>\n",
       "    <tr style=\"text-align: right;\">\n",
       "      <th></th>\n",
       "      <th>Index</th>\n",
       "      <th>Age</th>\n",
       "      <th>Salary</th>\n",
       "    </tr>\n",
       "  </thead>\n",
       "  <tbody>\n",
       "    <tr>\n",
       "      <th>0</th>\n",
       "      <td>-1.264911</td>\n",
       "      <td>-0.635981</td>\n",
       "      <td>-1.035927</td>\n",
       "    </tr>\n",
       "    <tr>\n",
       "      <th>1</th>\n",
       "      <td>-0.632456</td>\n",
       "      <td>-0.759234</td>\n",
       "      <td>-1.152978</td>\n",
       "    </tr>\n",
       "    <tr>\n",
       "      <th>2</th>\n",
       "      <td>0.000000</td>\n",
       "      <td>-0.783884</td>\n",
       "      <td>0.721138</td>\n",
       "    </tr>\n",
       "    <tr>\n",
       "      <th>3</th>\n",
       "      <td>0.632456</td>\n",
       "      <td>0.966297</td>\n",
       "      <td>0.721918</td>\n",
       "    </tr>\n",
       "    <tr>\n",
       "      <th>4</th>\n",
       "      <td>1.264911</td>\n",
       "      <td>1.212802</td>\n",
       "      <td>0.745849</td>\n",
       "    </tr>\n",
       "  </tbody>\n",
       "</table>\n",
       "</div>"
      ],
      "text/plain": [
       "      Index       Age    Salary\n",
       "0 -1.264911 -0.635981 -1.035927\n",
       "1 -0.632456 -0.759234 -1.152978\n",
       "2  0.000000 -0.783884  0.721138\n",
       "3  0.632456  0.966297  0.721918\n",
       "4  1.264911  1.212802  0.745849"
      ]
     },
     "metadata": {},
     "output_type": "display_data"
    }
   ],
   "source": [
    "#7. Standardize the independent variables of a dataset within a specific range (Use Z-\n",
    "#Score)\n",
    "data = {'Index': [0, 1, 2, 3, 4],\n",
    "        'Age':[25,20,19,90,100],\n",
    "        'Salary':[19000,10000,154100,154160,156000]}\n",
    "df = pd.DataFrame(data)\n",
    "\n",
    "z_scale=df.copy()\n",
    "for column in z_scale.columns:\n",
    "    z_scale[column]=(z_scale[column]-z_scale[column].mean())/z_scale[column].std()\n",
    "display(z_scale)"
   ]
  },
  {
   "cell_type": "code",
   "execution_count": 37,
   "id": "a165d904",
   "metadata": {},
   "outputs": [
    {
     "name": "stdout",
     "output_type": "stream",
     "text": [
      "      Index   Age    Salary\n",
      "0  2.333333  25.0   19000.0\n",
      "1  1.000000  20.0  109700.0\n",
      "2  2.000000  19.0  154100.0\n",
      "3  2.333333  90.0  109700.0\n",
      "4  4.000000  38.5  156000.0\n"
     ]
    }
   ],
   "source": [
    "#8. Replace missing data with its mean value\n",
    "\n",
    "import numpy as np\n",
    "data = {'Index': [0, 1, 2,None, 4],\n",
    "        'Age':[25,20,19,90,None],\n",
    "        'Salary':[19000,None,154100,None,156000]}\n",
    "df = pd.DataFrame(data)\n",
    "df.replace(0,np.nan,inplace=True)\n",
    "mean_values=df.mean()\n",
    "df.fillna(mean_values,inplace=True)\n",
    "print(df)"
   ]
  },
  {
   "cell_type": "code",
   "execution_count": null,
   "id": "778c0642",
   "metadata": {},
   "outputs": [],
   "source": []
  }
 ],
 "metadata": {
  "kernelspec": {
   "display_name": "Python 3 (ipykernel)",
   "language": "python",
   "name": "python3"
  },
  "language_info": {
   "codemirror_mode": {
    "name": "ipython",
    "version": 3
   },
   "file_extension": ".py",
   "mimetype": "text/x-python",
   "name": "python",
   "nbconvert_exporter": "python",
   "pygments_lexer": "ipython3",
   "version": "3.10.9"
  }
 },
 "nbformat": 4,
 "nbformat_minor": 5
}
